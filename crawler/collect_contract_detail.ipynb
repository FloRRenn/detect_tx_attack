{
 "cells": [
  {
   "cell_type": "code",
   "execution_count": 6,
   "metadata": {},
   "outputs": [],
   "source": [
    "import requests\n",
    "import pymysql\n",
    "import json"
   ]
  },
  {
   "cell_type": "code",
   "execution_count": 7,
   "metadata": {},
   "outputs": [],
   "source": [
    "ETHSCAN_API_KEY = \"66PEZRV8MGWR8VRS6BCNX7VM7BNW3GYXUJ\"\n",
    "ETHSCAN_URL = f\"http://api.etherscan.io/api?&apikey={ETHSCAN_API_KEY}&\""
   ]
  },
  {
   "cell_type": "code",
   "execution_count": 8,
   "metadata": {},
   "outputs": [],
   "source": [
    "host_db = \"172.23.96.1\"\n",
    "user_db = \"discord-user\"\n",
    "db_name = 'dapp_analysis_rearrange'\n",
    "password = \"vlvlvlvl123\"\n",
    "\n",
    "db = pymysql.connect(host = host_db, user = user_db, db = db_name, password = password)\n",
    "cursor = db.cursor()"
   ]
  },
  {
   "cell_type": "code",
   "execution_count": 10,
   "metadata": {},
   "outputs": [
    {
     "data": {
      "text/plain": [
       "124"
      ]
     },
     "execution_count": 10,
     "metadata": {},
     "output_type": "execute_result"
    }
   ],
   "source": [
    "query = \"SELECT DISTINCT to_addr FROM tx_extend WHERE to_addr_type = 'contract'\"\n",
    "cursor.execute(query)\n",
    "contract_addrs = cursor.fetchall()\n",
    "len(contract_addrs)"
   ]
  },
  {
   "cell_type": "code",
   "execution_count": 11,
   "metadata": {},
   "outputs": [
    {
     "data": {
      "text/plain": [
       "(('0x705203fc06027379681aef47c08fe679bc4a58e1',),\n",
       " ('0xbad7a99557f80eb6c99993f91778863b35cb564e',),\n",
       " ('0x54833d94b55202f2cbba52c3a002131e76fef30b',),\n",
       " ('0x9c1065e4a2fe67715ce82772cfc223bd76009451',),\n",
       " ('0x653bc9842cb54fa5454645be2eed7265f9fb9523',),\n",
       " ('0xdb91670cb86a36067a72a4e73b283bb5cdbd4e58',),\n",
       " ('0x9708c86466d084a45ad0569658da30c61912a19f',),\n",
       " ('0x94c0d029a7b64bf443e89c5006089364c0d60d61',),\n",
       " ('0xa62142888aba8370742be823c1782d17a0389da1',),\n",
       " ('0x041b3eb05560ba2670def3cc5eec2aeef8e5d14b',),\n",
       " ('0xabb4b9b48ceaefc290464025bdd4ef324f8b23c4',),\n",
       " ('0x27f706edde3ad952ef647dd67e24e38cd0803dd6',),\n",
       " ('0xf91546835f756da0c10cfa0cda95b15577b84aa7',),\n",
       " ('0x43ee79e379e7b78d871100ed696e803e7893b644',),\n",
       " ('0x24da016c06941ec2c92be28e0a2b2e679f0d1dc7',),\n",
       " ('0x29488e24cfdaa52a0b837217926c0c0853db7962',),\n",
       " ('0x417bdc58ef9a3d7de04a66ab84ed13048d9a82bb',),\n",
       " ('0x585a546a781176fbb306caa4e4198a0a560964d3',),\n",
       " ('0xcb4046e50f71409a3af23da0961b5ce2f769de31',),\n",
       " ('0x60be37dacb94748a12208a7ff298f6112365e31f',),\n",
       " ('0x0ad3227eb47597b566ec138b3afd78cfea752de5',),\n",
       " ('0x724352d51affd61de3e77d2a83b94a4995e49ee9',),\n",
       " ('0xca6378fcdf24ef34b4062dda9f1862ea59bafd4d',),\n",
       " ('0x39ac9900e003b2a4b179d7c5902b818ae06a70a8',),\n",
       " ('0xc6725ae749677f21e4d8f85f41cfb6de49b9db29',),\n",
       " ('0xdfdc0d82d96f8fd40ca0cfb4a288955becec2088',),\n",
       " ('0xc7c95f3351a5e16c009638accaf63357e484a802',),\n",
       " ('0x55f93985431fc9304077687a35a1ba103dc1e081',),\n",
       " ('0x2069aeced484c18587b78f441d565586e718e3e1',),\n",
       " ('0xac629bf601cf04fc7d09ef015002fedc87e554c6',),\n",
       " ('0x2bae8bf1d52cf870381c6c02f0256f1b68d7aa2e',),\n",
       " ('0x842014a57e8d8c04302d9030c5043f4d502f6ac8',),\n",
       " ('0x0b3dd26b80fd679af3fec73b1e60eb716c311b72',),\n",
       " ('0xe7cebc3ef3f77c314fad5369af26474bbff8f0e2',),\n",
       " ('0x623afe103fb8d189b56311e4ce9956ec0989b412',),\n",
       " ('0xd1ceeeefa68a6af0a5f6046132d986066c7f9426',),\n",
       " ('0x83dbeb406bb8bb66369e1fe5a1b527524120602c',),\n",
       " ('0x6fc9c554c2363805673f18b3a2b1912cce8bfb8a',),\n",
       " ('0xa7d81c86f9934b56dd00fa826c319330d628d31f',),\n",
       " ('0x8a883a20940870dc055f2070ac8ec847ed2d9918',),\n",
       " ('0xf45717552f12ef7cb65e95476f217ea008167ae3',),\n",
       " ('0x91efffb9c6cd3a66474688d0a48aa6ecfe515aa5',),\n",
       " ('0x3ac6cb00f5a44712022a51fbace4c7497f56ee31',),\n",
       " ('0x2c262125419dcb34e3014ebc9d352d86128c29d6',),\n",
       " ('0x125365069020439b830c9eac9dd402f8aa762569',),\n",
       " ('0xe41f95a720b26ebd4b8da942e24385f01ed022a7',),\n",
       " ('0x96c833e43488c986676e9f6b3b8781812629bbb5',),\n",
       " ('0x69beab403438253f13b6e92db91f7fb849258263',),\n",
       " ('0xee609fe292128cad03b786dbb9bc2634ccdbe7fc',),\n",
       " ('0xce81300dd03d8b9af27c7fec2b0ccf77d0851788',),\n",
       " ('0xc5d105e63711398af9bbff092d4b6769c82f793d',),\n",
       " ('0x5bfc8221c8079778bd472161711600e2b56a9a3c',),\n",
       " ('0xda0f9043aeb6abacd1ae565dcb669c2df2aeae3b',),\n",
       " ('0x8dc6216309177c1f3782c08fb93341234a1a8fb2',),\n",
       " ('0x6f2145d01a47954734cebba3d723101f6228bd4d',),\n",
       " ('0xb6e85a8b7c3f8f39fc71a4dc29639a053df15749',),\n",
       " ('0xb75a5e36cc668bc8fe468e8f272cd4a0fd0fd773',),\n",
       " ('0x4daa9dc438a77bd59e8a43c6d46cbfe84cd04255',),\n",
       " ('0x0d76a65bd6e6cdae2fb8e5559602d4b9bcd19126',),\n",
       " ('0xb336a86e2feb1e87a328fcb7dd4d04de3df254d0',),\n",
       " ('0xc5918a927c4fb83fe99e30d6f66707f4b396900e',),\n",
       " ('0x6ffc0bd7c41c3f02b033ab0889972eb91e9e9081',),\n",
       " ('0x8d47faebbc53554f2c23886be19f3b0b48358b12',),\n",
       " ('0x2ef27bf41236bd859a95209e17a43fbd26851f92',),\n",
       " ('0xdd9fd6b6f8f7ea932997992bbe67eabb3e316f3c',),\n",
       " ('0x50126e8fcb9be29f83c6bbd913cc85b40eaf86fc',),\n",
       " ('0x02f61fd266da6e8b102d4121f5ce7b992640cf98',),\n",
       " ('0x0f8f9391747a5a29e5fae1ba5938eef04fb8e4be',),\n",
       " ('0xff476685daa541898ce6b776e54c7c011d41418b',),\n",
       " ('0x26bf1878e21e01476fd559f4897ad29f60b839a6',),\n",
       " ('0xa4b55b06f464180e2bf3b1a1a5bd77d7d07fb32f',),\n",
       " ('0xc6c2a8f2c957806ac0580b46d84d2717291b9df1',),\n",
       " ('0x19e35f31d6221fb4e6d94853b7fffd3187be7203',),\n",
       " ('0x7f325efc3521088a225de98f82e6dd7d4d2d02f8',),\n",
       " ('0x6e58b4c41cab75dc0239938bf5455ab8823ee4de',),\n",
       " ('0x50437907ff111c9564a2fe6b61261bbe1fa87755',),\n",
       " ('0x12480e24eb5bec1a9d4369cab6a80cad3c0a377a',),\n",
       " ('0xa15c7ebe1f07caf6bff097d8a589fb8ac49ae5b3',),\n",
       " ('0xa9e4c18ca73edd36570d9e98fd05f7b25af2a17d',),\n",
       " ('0x7588ed241c60fb0109415ce458de6cd6bd4b498a',),\n",
       " ('0x1a050d77003caee532df18d04d86b99ca15bf9e8',),\n",
       " ('0x3a80e38a0b229c1cca9249a555046a9bc9c97292',),\n",
       " ('0xcb47c89cb17c10b719fc5ed9665bae157cac2cb1',),\n",
       " ('0x9e88770da20ebea0df87ad874c2f5cf8ab92f605',),\n",
       " ('0x0f335195823384827aa2112c59aaf7ee1f35504d',),\n",
       " ('0xc02aaa39b223fe8d0a0e5c4f27ead9083c756cc2',),\n",
       " ('0x9333dd9f517f9cd64ee021bc824846b57762ffd5',),\n",
       " ('0xd24e56f02ee723a443575836b9668587ffd6204f',),\n",
       " ('0x997351b8cad2e1b531d6480ec0242fdc51a8ae09',),\n",
       " ('0xedb94888eff041eb50c9fc92c360f66afb3b94c5',),\n",
       " ('0x373c55c277b866a69dc047cad488154ab9759466',),\n",
       " ('0xb582baaf5e749d6aa98a22355a9d08b4c4d013c8',),\n",
       " ('0x52083b1a21a5abc422b1b0bce5c43ca86ef74cd1',),\n",
       " ('0xfae0b7e384a914090332ee891de16e8d55dc4098',),\n",
       " ('0x016bbe43fad5396424a4467bb79f59f5e55b4b1b',),\n",
       " ('0x82ccf4859512e3f1c97d9f9df945a2058e41d80a',),\n",
       " ('0x878a7881ae482c703a2f20d23579aa4cf4b456d8',),\n",
       " ('0x02357f06600f5111dcce2e6f03661f03bc1e831d',),\n",
       " ('0xd0b75fe2bd32942b2c99e8e5c375359d459ff474',),\n",
       " ('0x944d79f4405604803112a96baed3825a491f2cf6',),\n",
       " ('0xfef5497bc53a69875e02ae5b14eeff668f09a729',),\n",
       " ('0xe82719202e5965cf5d9b6673b7503a3b92de20be',),\n",
       " ('0x05f4a42e251f2d52b8ed15e9fedaacfcef1fad27',),\n",
       " ('0x9cddb488d39821f06057dfb0f7885964da3d801b',),\n",
       " ('0xf41fb294985d40eea456f8f4820c25200d89ad70',),\n",
       " ('0xbf52f2ab39e26e0951d2a02b49b7702abe30406a',),\n",
       " ('0xd95a6aa88eb60ccf2841110380b3af350f50ac62',),\n",
       " ('0x0ec4207aa379dfcd9239e987530b95a55178e5eb',),\n",
       " ('0x1739e311ddbf1efdfbc39b74526fd8b600755ada',),\n",
       " ('0x330f0ecdfb51fbe6e191361e2288aee827beea8f',),\n",
       " ('0xeacf69cc1b464928387f0a78b08b9ec786c0b0d8',),\n",
       " ('0xbec591de75b8699a3ba52f073428822d0bfc0d7e',),\n",
       " ('0x08e726dd4b6dbeeeb15ec26d04ac952b8bcea480',),\n",
       " ('0x170e36136d7e4dfe0206256a43ac7d10df1eaacb',),\n",
       " ('0x460a5098248f4aa1a46eec6aac78b7819ea01c42',),\n",
       " ('0xb8c77482e45f1f44de1745f52c74426c631bdd52',),\n",
       " ('0xb73f8f75cc233ec7a451d44859e06167e47c1942',),\n",
       " ('0x5a9bf6badcd24fe0d58e1087290c2fe2c728736a',),\n",
       " ('0x9653cfd0865ad8313bea2f0c2ec0584bfd05115b',),\n",
       " ('0x76ddf37e9418d5251e7c254a6dabb062027328ba',),\n",
       " ('0xe8716809a49e783ae6ddc294ee2aab3d3ce3f5a2',),\n",
       " ('0xaaad8d7ae50d5dd6ffa9d29a2531ab2a67803a1f',),\n",
       " ('0x01f2acf2914860331c1cb1a9acecda7475e06af8',),\n",
       " ('0x93b3b11f18b7bd7aa5e72afaee7aec78b71b9dc9',))"
      ]
     },
     "execution_count": 11,
     "metadata": {},
     "output_type": "execute_result"
    }
   ],
   "source": [
    "contract_addrs"
   ]
  },
  {
   "cell_type": "code",
   "execution_count": 9,
   "metadata": {},
   "outputs": [],
   "source": [
    "def bytecode(addr):\n",
    "    resq = requests.get(ETHSCAN_URL + f\"module=proxy&action=eth_getCode&address={addr}&tag=latest\")\n",
    "    data = resq.json()\n",
    "    return data['result']\n",
    "\n",
    "def contract_detail(addr):\n",
    "    resq = requests.get(ETHSCAN_URL + f\"module=contract&action=getsourcecode&address={addr}\")\n",
    "    data = resq.json()\n",
    "    return data['result'][0]"
   ]
  },
  {
   "cell_type": "code",
   "execution_count": 14,
   "metadata": {},
   "outputs": [],
   "source": [
    "def getContract(list_contracts):\n",
    "    query = \"INSERT INTO smart_contract(address,name,bytecode,src_code,detail,isDestroyed,ABI) VALUES (%s,%s,%s,%s,%s,%s,%s)\" \n",
    "    \n",
    "    for addr in list_contracts:\n",
    "        # addr = addr[0]\n",
    "        \n",
    "        bytecode_ = bytecode(addr)\n",
    "        detail = contract_detail(addr)\n",
    "        isDestroyed = True if bytecode_ == \"0x\" else False\n",
    "        extracted_details = {\n",
    "            'compiler_version' : detail['CompilerVersion'],\n",
    "            'swarm_code' : detail['SwarmSource'],\n",
    "            'contructtor_args' : detail['ConstructorArguments'],\n",
    "            'license_type' : detail['LicenseType'],\n",
    "            'libs' : detail['Library'],\n",
    "            \n",
    "        }\n",
    "        try:\n",
    "            abi = json.loads(detail['ABI'])\n",
    "            abi = json.dumps(abi)\n",
    "        except:\n",
    "            abi = None\n",
    "        \n",
    "        args = (\n",
    "            addr, detail['ContractName'],\n",
    "            bytecode_, detail['SourceCode'],\n",
    "            json.dumps(extracted_details),\n",
    "            isDestroyed,\n",
    "            abi\n",
    "        )\n",
    "        cursor.execute(query, args)\n",
    "        db.commit()\n",
    "    db.close()\n",
    "          \n",
    "getContract(contract_addrs)"
   ]
  }
 ],
 "metadata": {
  "kernelspec": {
   "display_name": "env",
   "language": "python",
   "name": "python3"
  },
  "language_info": {
   "codemirror_mode": {
    "name": "ipython",
    "version": 3
   },
   "file_extension": ".py",
   "mimetype": "text/x-python",
   "name": "python",
   "nbconvert_exporter": "python",
   "pygments_lexer": "ipython3",
   "version": "3.9.18"
  }
 },
 "nbformat": 4,
 "nbformat_minor": 2
}
