{
 "cells": [
  {
   "cell_type": "code",
   "execution_count": 1,
   "metadata": {},
   "outputs": [],
   "source": [
    "import requests\n",
    "import time\n",
    "import json\n",
    "import pymysql"
   ]
  },
  {
   "cell_type": "code",
   "execution_count": 2,
   "metadata": {},
   "outputs": [],
   "source": [
    "host = \"localhost\"\n",
    "user = \"root\"\n",
    "db_name = 'dapp_analysis_rearrange'\n",
    "\n",
    "db = pymysql.connect(host = host, user = user, db = db_name)\n",
    "cursor = db.cursor()"
   ]
  },
  {
   "cell_type": "code",
   "execution_count": 3,
   "metadata": {},
   "outputs": [],
   "source": [
    "url = \"https://www.4byte.directory/api/v1/signatures/?page=\""
   ]
  },
  {
   "cell_type": "code",
   "execution_count": 4,
   "metadata": {},
   "outputs": [],
   "source": [
    "def get_data(page):\n",
    "    while True:\n",
    "        req = requests.get(url + str(page))\n",
    "        if req.status_code == 404:\n",
    "            return None\n",
    "        \n",
    "        if req.status_code == 200:\n",
    "            data = req.json()\n",
    "            return data[\"results\"]\n",
    "        \n",
    "        time.sleep(180) # meet rate limit"
   ]
  },
  {
   "cell_type": "code",
   "execution_count": 6,
   "metadata": {},
   "outputs": [
    {
     "name": "stdout",
     "output_type": "stream",
     "text": [
      "Done, collected data from 10513 pages\n"
     ]
    }
   ],
   "source": [
    "query = \"INSERT INTO methodabi(id, text_signature, hex_signature, bytes_signature, created_at) VALUES (%s,%s,%s,%s,%s)\"\n",
    "\n",
    "for page in range(1, 10514):\n",
    "    data = get_data(page)\n",
    "    if data is None:\n",
    "        print(f\"Done, collected data from {page} pages\")\n",
    "        break\n",
    "    \n",
    "    args = (data[\"id\"], data[\"text_signature\"], data[\"hex_signature\"], data[\"bytes_signature\"], data[\"created_at\"],)\n",
    "    cursor.execute(query, args)\n",
    "    db.commit()"
   ]
  }
 ],
 "metadata": {
  "kernelspec": {
   "display_name": "env",
   "language": "python",
   "name": "python3"
  },
  "language_info": {
   "codemirror_mode": {
    "name": "ipython",
    "version": 3
   },
   "file_extension": ".py",
   "mimetype": "text/x-python",
   "name": "python",
   "nbconvert_exporter": "python",
   "pygments_lexer": "ipython3",
   "version": "3.10.11"
  }
 },
 "nbformat": 4,
 "nbformat_minor": 2
}
